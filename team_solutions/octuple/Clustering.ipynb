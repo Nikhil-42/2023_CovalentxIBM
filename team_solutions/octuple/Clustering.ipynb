{
 "cells": [
  {
   "cell_type": "code",
   "execution_count": 2,
   "id": "89ac3e79",
   "metadata": {},
   "outputs": [],
   "source": [
    "import qiskit\n",
    "import covalent as ct"
   ]
  },
  {
   "cell_type": "code",
   "execution_count": 12,
   "id": "0ea44f45",
   "metadata": {},
   "outputs": [],
   "source": [
    "from qiskit.providers.ibmq import IBMQ"
   ]
  },
  {
   "cell_type": "code",
   "execution_count": 23,
   "id": "d33f967e",
   "metadata": {},
   "outputs": [
    {
     "name": "stderr",
     "output_type": "stream",
     "text": [
      "configrc.store_credentials:WARNING:2023-01-29 00:18:47,662: Credentials already present. Set overwrite=True to overwrite.\n"
     ]
    }
   ],
   "source": [
    "IBMQ.save_account('YOUR_API_KEY')"
   ]
  },
  {
   "cell_type": "code",
   "execution_count": 13,
   "id": "336c71dc",
   "metadata": {},
   "outputs": [
    {
     "data": {
      "text/plain": [
       "<AccountProvider for IBMQ(hub='ibm-q', group='open', project='main')>"
      ]
     },
     "execution_count": 13,
     "metadata": {},
     "output_type": "execute_result"
    }
   ],
   "source": [
    "# This step \n",
    "IBMQ.load_account()"
   ]
  },
  {
   "cell_type": "code",
   "execution_count": 34,
   "id": "ac5b0c24",
   "metadata": {},
   "outputs": [],
   "source": [
    "from qiskit import QuantumCircuit, execute, transpile\n",
    "import numpy as np\n",
    "\n",
    "# @ct.electron\n",
    "def construct_circuit():    \n",
    "    circuit = QuantumCircuit(7)\n",
    "    \n",
    "    unitary_operators = [[[0,1],[1,0]]]\n",
    "    \n",
    "    for operator in unitary_operators:\n",
    "        circuit.unitary(operator, 0)\n",
    "    \n",
    "    circuit.measure_all()\n",
    "    \n",
    "    return circuit\n",
    "\n",
    "# @ct.electron\n",
    "def construct_simulator(circuit):\n",
    "    from qiskit.providers.ibmq import IBMQ\n",
    " \n",
    "    provider = IBMQ.get_provider(hub='ibm-q-community', group='mit-hackathon', project='main')\n",
    "    provider.backends()\n",
    "\n",
    "    backend = provider.get_backend('ibm_oslo')\n",
    "    \n",
    "    from qiskit.providers.aer import AerSimulator\n",
    "\n",
    "    # Generate a simulator the mimics the real quantum system with the latest calibration\n",
    "    simulator = AerSimulator.from_backend(backend)\n",
    "    circuit = transpile(circuit, simulator)\n",
    "    \n",
    "    return circuit, simulator    \n",
    "\n",
    "# @ct.electron\n",
    "def invoke_simulation(circuit, simulator):\n",
    "    result = simulator.run(circuit).result()\n",
    "    counts = result.get_counts(circuit)\n",
    "    \n",
    "    return circuit, result, counts\n",
    "    \n",
    "# @ct.lattice\n",
    "def test():\n",
    "    circuit = construct_circuit()\n",
    "    circuit, simulator = construct_simulator(circuit=circuit)\n",
    "    \n",
    "    return invoke_simulation(circuit=circuit, simulator=simulator)"
   ]
  },
  {
   "cell_type": "code",
   "execution_count": 35,
   "id": "3604c5e6",
   "metadata": {},
   "outputs": [],
   "source": [
    "circuit, results, counts = test()"
   ]
  },
  {
   "cell_type": "code",
   "execution_count": 36,
   "id": "b0f7f1aa",
   "metadata": {},
   "outputs": [
    {
     "data": {
      "text/html": [
       "<pre style=\"word-wrap: normal;white-space: pre;background: #fff0;line-height: 1.1;font-family: &quot;Courier New&quot;,Courier,monospace\">         ┌───┐ ░ ┌─┐                  \n",
       "q_0 -> 0 ┤ X ├─░─┤M├──────────────────\n",
       "         └───┘ ░ └╥┘┌─┐               \n",
       "q_1 -> 1 ──────░──╫─┤M├───────────────\n",
       "               ░  ║ └╥┘┌─┐            \n",
       "q_2 -> 2 ──────░──╫──╫─┤M├────────────\n",
       "               ░  ║  ║ └╥┘┌─┐         \n",
       "q_3 -> 3 ──────░──╫──╫──╫─┤M├─────────\n",
       "               ░  ║  ║  ║ └╥┘┌─┐      \n",
       "q_4 -> 4 ──────░──╫──╫──╫──╫─┤M├──────\n",
       "               ░  ║  ║  ║  ║ └╥┘┌─┐   \n",
       "q_5 -> 5 ──────░──╫──╫──╫──╫──╫─┤M├───\n",
       "               ░  ║  ║  ║  ║  ║ └╥┘┌─┐\n",
       "q_6 -> 6 ──────░──╫──╫──╫──╫──╫──╫─┤M├\n",
       "               ░  ║  ║  ║  ║  ║  ║ └╥┘\n",
       " meas: 7/═════════╩══╩══╩══╩══╩══╩══╩═\n",
       "                  0  1  2  3  4  5  6 </pre>"
      ],
      "text/plain": [
       "         ┌───┐ ░ ┌─┐                  \n",
       "q_0 -> 0 ┤ X ├─░─┤M├──────────────────\n",
       "         └───┘ ░ └╥┘┌─┐               \n",
       "q_1 -> 1 ──────░──╫─┤M├───────────────\n",
       "               ░  ║ └╥┘┌─┐            \n",
       "q_2 -> 2 ──────░──╫──╫─┤M├────────────\n",
       "               ░  ║  ║ └╥┘┌─┐         \n",
       "q_3 -> 3 ──────░──╫──╫──╫─┤M├─────────\n",
       "               ░  ║  ║  ║ └╥┘┌─┐      \n",
       "q_4 -> 4 ──────░──╫──╫──╫──╫─┤M├──────\n",
       "               ░  ║  ║  ║  ║ └╥┘┌─┐   \n",
       "q_5 -> 5 ──────░──╫──╫──╫──╫──╫─┤M├───\n",
       "               ░  ║  ║  ║  ║  ║ └╥┘┌─┐\n",
       "q_6 -> 6 ──────░──╫──╫──╫──╫──╫──╫─┤M├\n",
       "               ░  ║  ║  ║  ║  ║  ║ └╥┘\n",
       " meas: 7/═════════╩══╩══╩══╩══╩══╩══╩═\n",
       "                  0  1  2  3  4  5  6 "
      ]
     },
     "execution_count": 36,
     "metadata": {},
     "output_type": "execute_result"
    }
   ],
   "source": [
    "circuit.draw()"
   ]
  },
  {
   "cell_type": "code",
   "execution_count": null,
   "id": "cf3275d8",
   "metadata": {},
   "outputs": [],
   "source": []
  }
 ],
 "metadata": {
  "kernelspec": {
   "display_name": "Python 3 (ipykernel)",
   "language": "python",
   "name": "python3"
  },
  "language_info": {
   "codemirror_mode": {
    "name": "ipython",
    "version": 3
   },
   "file_extension": ".py",
   "mimetype": "text/x-python",
   "name": "python",
   "nbconvert_exporter": "python",
   "pygments_lexer": "ipython3",
   "version": "3.8.10"
  }
 },
 "nbformat": 4,
 "nbformat_minor": 5
}
