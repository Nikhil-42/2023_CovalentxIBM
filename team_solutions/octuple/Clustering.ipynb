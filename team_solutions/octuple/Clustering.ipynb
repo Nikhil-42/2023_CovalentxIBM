{
 "cells": [
  {
   "cell_type": "code",
   "execution_count": 22,
   "id": "89ac3e79",
   "metadata": {},
   "outputs": [],
   "source": [
    "import qiskit\n",
    "import covalent as ct"
   ]
  },
  {
   "cell_type": "code",
   "execution_count": 23,
   "id": "d33f967e",
   "metadata": {},
   "outputs": [
    {
     "name": "stderr",
     "output_type": "stream",
     "text": [
      "configrc.store_credentials:WARNING:2023-01-29 00:18:47,662: Credentials already present. Set overwrite=True to overwrite.\n"
     ]
    }
   ],
   "source": [
    "IBMQ.save_account('YOUR_API_KEY')"
   ]
  },
  {
   "cell_type": "code",
   "execution_count": 24,
   "id": "ac5b0c24",
   "metadata": {},
   "outputs": [],
   "source": [
    "from qiskit import QuantumCircuit, QuantumRegister, ClassicalRegister, execute\n",
    "import numpy as np\n",
    "\n",
    "@ct.electron\n",
    "def construct_circuit():\n",
    "    q_register = QuantumRegister(7)\n",
    "    c_register = ClassicalRegister(7)\n",
    "    \n",
    "    circuit = QuantumCircuit(7)\n",
    "    \n",
    "    unitary_operators = [circuit.X, circuit.Z]\n",
    "    for operator in unitary_operators:\n",
    "        circuit.unitary(operator)\n",
    "    \n",
    "    circuit.measure(q_register, c_register)\n",
    "    \n",
    "    return circuit\n",
    "\n",
    "@ct.electron\n",
    "def simulate(circuit):\n",
    "    from qiskit.providers.ibmq import IBMQ\n",
    " \n",
    "    provider = IBMQ.get_provider(hub='ibm-q-community', group='mit-hackathon', project='main')\n",
    "    provider.backends()\n",
    "\n",
    "    backend = provider.get_backend('ibm_oslo')\n",
    "    \n",
    "    from qiskit.providers.aer import AerSimulator\n",
    "\n",
    "    # Generate a simulator the mimics the real quantum system with the latest calibration\n",
    "    backend_sim = AerSimulator.from_backend(backend)\n",
    "    \n",
    "@ct.lattice\n",
    "def test():\n",
    "    circuit = construct_circuit()\n",
    "    return simulate(circuit=circuit)"
   ]
  },
  {
   "cell_type": "code",
   "execution_count": null,
   "id": "3604c5e6",
   "metadata": {},
   "outputs": [],
   "source": []
  }
 ],
 "metadata": {
  "kernelspec": {
   "display_name": "Python 3 (ipykernel)",
   "language": "python",
   "name": "python3"
  },
  "language_info": {
   "codemirror_mode": {
    "name": "ipython",
    "version": 3
   },
   "file_extension": ".py",
   "mimetype": "text/x-python",
   "name": "python",
   "nbconvert_exporter": "python",
   "pygments_lexer": "ipython3",
   "version": "3.8.10"
  }
 },
 "nbformat": 4,
 "nbformat_minor": 5
}
